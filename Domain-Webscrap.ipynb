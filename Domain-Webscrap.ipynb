{
 "cells": [
  {
   "cell_type": "code",
   "execution_count": 92,
   "id": "48ef2954-2339-44c7-a499-ffef44d8cd00",
   "metadata": {
    "tags": []
   },
   "outputs": [],
   "source": [
    "import pandas as pd\n",
    "import numpy as np\n",
    "from bs4 import BeautifulSoup\n",
    "import requests"
   ]
  },
  {
   "cell_type": "code",
   "execution_count": 112,
   "id": "3a09b248-ab2d-40c3-8434-989a248b01cf",
   "metadata": {
    "tags": []
   },
   "outputs": [],
   "source": [
    "\n",
    "\n",
    "# Initialize lists\n",
    "all_data = []\n",
    "\n",
    "# Loop through multiple pages\n",
    "for j in range(1, 100):\n",
    "    headers = {\n",
    "        'User-Agent': 'Mozilla/5.0 (Windows NT 10.0; Win64; x64) AppleWebKit/537.36 (KHTML, like Gecko) Chrome/109.0.0.0 Safari/537.36',\n",
    "    }\n",
    "    web = requests.get('https://www.domain.com.au/sale/murray-region-nsw/?suburb=south-yarra-vic-3141,south-melbourne-vic-3205,toorak-vic-3142,albert-park-vic-3206,prahran-vic-3181,warners-bay-nsw-2282,armadale-vic-3143,newport-vic-3015,port-melbourne-vic-3207,kew-vic-3101,south-brisbane-qld-4101&page={}'.format(j), headers=headers).text\n",
    "\n",
    "    soup = BeautifulSoup(web, 'lxml')\n",
    "\n",
    "    # To Store All the div tag of class 'css-hgk76f'\n",
    "    val = soup.find_all('div', class_='css-hgk76f')\n",
    "    slick_list_divs = soup.find_all('div', class_='slick-list')\n",
    "\n",
    "    # Loop through each 'div' element with class 'slick-list' and remove it from the soup\n",
    "    for div in slick_list_divs:\n",
    "        div.decompose()\n",
    "\n",
    "    # Loop through each property element on the current page\n",
    "    for i in val:\n",
    "        # Initialize data dictionary for the current property\n",
    "        data = {\n",
    "            'Agent Name': None,\n",
    "            'Agency': None,\n",
    "            'Address': None,\n",
    "            'Area': None,\n",
    "            'State': None,\n",
    "            'PIN': None,\n",
    "            'Bedrooms': None,\n",
    "            'Bathrooms': None,\n",
    "            'Parking': None,\n",
    "            'Square Meters': None,\n",
    "            'Price': None,\n",
    "            'Property Type': None,\n",
    "        }\n",
    "\n",
    "        # Find Price and add to the data dictionary\n",
    "        price_element = i.find('p', class_='css-mgq8yx')\n",
    "        if price_element:\n",
    "            data['Price'] = price_element.text.strip()\n",
    "\n",
    "        # Find and extract Agent name and Agency\n",
    "        div_elements = i.find_all('div', class_='css-1o2z7mc')\n",
    "        div_elements1 = i.find_all('div', class_='css-1gaz9vo')\n",
    "\n",
    "        for div_element in div_elements:\n",
    "            span_elements = div_element.find_all('span')\n",
    "            if len(span_elements) >= 2:\n",
    "                try:\n",
    "                    data['Agent Name'] = span_elements[0].text.strip()\n",
    "                    data['Agency'] = span_elements[1].text.strip()\n",
    "                except:\n",
    "                    data['Agent Name'] = np.nan\n",
    "                    data['Agency'] = np.nan\n",
    "\n",
    "        for div_element1 in div_elements1:\n",
    "            span_elements1 = div_element1.find_all('span')\n",
    "            if len(span_elements1) >= 2:\n",
    "                try:\n",
    "                    data['Agent Name'] = span_elements1[0].text.strip()\n",
    "                    data['Agency'] = span_elements1[1].text.strip()\n",
    "                except:\n",
    "                    data['Agent Name'] = np.nan\n",
    "                    data['Agency'] = np.nan\n",
    "\n",
    "        # To find bed, baths, and parking\n",
    "        bed_elements = i.find_all('span', class_='css-lvv8is')\n",
    "\n",
    "        if len(bed_elements) >= 1:\n",
    "            data['Bedrooms'] = bed_elements[0].text.strip()\n",
    "\n",
    "        if len(bed_elements) >= 2:\n",
    "            data['Bathrooms'] = bed_elements[1].text.strip()\n",
    "\n",
    "        if len(bed_elements) >= 3:\n",
    "            data['Parking'] = bed_elements[2].text.strip()\n",
    "\n",
    "        # Extract square meters\n",
    "        area_elements = i.find_all('span', class_='css-lvv8is')\n",
    "        if len(area_elements) >= 4:\n",
    "            data['Square Meters'] = area_elements[3].text.strip()\n",
    "\n",
    "        # Extract street address, city, state, and PIN\n",
    "        address_elements = i.find_all('span', class_='css-iqrvhs')\n",
    "        if len(address_elements) >= 2:\n",
    "            address_line1 = address_elements[0].text.strip()\n",
    "            address_parts = address_elements[1].find_all('span')  # Find nested spans\n",
    "            if len(address_parts) >= 3:\n",
    "                data['Address'] = address_line1\n",
    "                data['Area'] = address_parts[0].text.strip()\n",
    "                data['State'] = address_parts[1].text.strip()\n",
    "                data['PIN'] = address_parts[2].text.strip()\n",
    "\n",
    "        # Find and append property type\n",
    "        type_element = i.find('span', class_='css-693528')\n",
    "        if type_element:\n",
    "            data['Property Type'] = type_element.text.strip()\n",
    "\n",
    "        # Append the data dictionary to the list of all data\n",
    "        all_data.append(data)\n",
    "\n",
    "# Create a DataFrame from the collected data\n",
    "df = pd.DataFrame(all_data)\n",
    "\n",
    "\n",
    "# Save the DataFrame to a CSV file\n",
    "df.to_csv('property_data.csv', index=False)\n"
   ]
  },
  {
   "cell_type": "code",
   "execution_count": 101,
   "id": "2a9c2686-9115-4279-afad-14088624c9b5",
   "metadata": {
    "tags": []
   },
   "outputs": [],
   "source": [
    "df = pd.DataFrame({'Agent_name':Aname, 'Agency': Agency, 'Price':Price,'Address':Address , 'Suburb':Area, 'State':State, 'Pin':PIN, 'Beds':Bed, 'Baths':Baths, 'Parking':Parking, 'Area':mt_sq, 'Type':type})"
   ]
  },
  {
   "cell_type": "code",
   "execution_count": 113,
   "id": "78184ca5-9cd6-4ed2-aed3-50c16d35b4f9",
   "metadata": {
    "tags": []
   },
   "outputs": [
    {
     "data": {
      "text/html": [
       "<div>\n",
       "<style scoped>\n",
       "    .dataframe tbody tr th:only-of-type {\n",
       "        vertical-align: middle;\n",
       "    }\n",
       "\n",
       "    .dataframe tbody tr th {\n",
       "        vertical-align: top;\n",
       "    }\n",
       "\n",
       "    .dataframe thead th {\n",
       "        text-align: right;\n",
       "    }\n",
       "</style>\n",
       "<table border=\"1\" class=\"dataframe\">\n",
       "  <thead>\n",
       "    <tr style=\"text-align: right;\">\n",
       "      <th></th>\n",
       "      <th>Agent Name</th>\n",
       "      <th>Agency</th>\n",
       "      <th>Address</th>\n",
       "      <th>Area</th>\n",
       "      <th>State</th>\n",
       "      <th>PIN</th>\n",
       "      <th>Bedrooms</th>\n",
       "      <th>Bathrooms</th>\n",
       "      <th>Parking</th>\n",
       "      <th>Square Meters</th>\n",
       "      <th>Price</th>\n",
       "      <th>Property Type</th>\n",
       "    </tr>\n",
       "  </thead>\n",
       "  <tbody>\n",
       "    <tr>\n",
       "      <th>425</th>\n",
       "      <td>Troy Duncan</td>\n",
       "      <td>First National Real Estate Lake Macquarie</td>\n",
       "      <td>55 Croudace Street,</td>\n",
       "      <td>EDGEWORTH</td>\n",
       "      <td>NSW</td>\n",
       "      <td>2285</td>\n",
       "      <td>3 Beds</td>\n",
       "      <td>1 Bath</td>\n",
       "      <td>1 Parking</td>\n",
       "      <td>669m²</td>\n",
       "      <td>$600,000 - $660,000</td>\n",
       "      <td>House</td>\n",
       "    </tr>\n",
       "    <tr>\n",
       "      <th>426</th>\n",
       "      <td>Spring Chen</td>\n",
       "      <td>Fletchers Balwyn North</td>\n",
       "      <td>28A Campbell Grove,</td>\n",
       "      <td>HAWTHORN EAST</td>\n",
       "      <td>VIC</td>\n",
       "      <td>3123</td>\n",
       "      <td>4 Beds</td>\n",
       "      <td>3 Baths</td>\n",
       "      <td>2 Parking</td>\n",
       "      <td>None</td>\n",
       "      <td>Expressions of Interest | Contact Agent</td>\n",
       "      <td>House</td>\n",
       "    </tr>\n",
       "    <tr>\n",
       "      <th>427</th>\n",
       "      <td>Sacha Hennessy</td>\n",
       "      <td>Place West</td>\n",
       "      <td>61A Rockbourne Terrace,</td>\n",
       "      <td>PADDINGTON</td>\n",
       "      <td>QLD</td>\n",
       "      <td>4064</td>\n",
       "      <td>5 Beds</td>\n",
       "      <td>3 Baths</td>\n",
       "      <td>2 Parking</td>\n",
       "      <td>405m²</td>\n",
       "      <td>For Sale Now</td>\n",
       "      <td>House</td>\n",
       "    </tr>\n",
       "    <tr>\n",
       "      <th>428</th>\n",
       "      <td>Dean Stanley</td>\n",
       "      <td>Ray White Williamstown</td>\n",
       "      <td>2 Osborne Street,</td>\n",
       "      <td>WILLIAMSTOWN</td>\n",
       "      <td>VIC</td>\n",
       "      <td>3016</td>\n",
       "      <td>4 Beds</td>\n",
       "      <td>2 Baths</td>\n",
       "      <td>2 Parking</td>\n",
       "      <td>240m²</td>\n",
       "      <td>$1,800,000 - $1,900,000</td>\n",
       "      <td>House</td>\n",
       "    </tr>\n",
       "    <tr>\n",
       "      <th>429</th>\n",
       "      <td>Peter  Vigano</td>\n",
       "      <td>Jellis Craig &amp; Company Pty Ltd</td>\n",
       "      <td>58 Bryson Street,</td>\n",
       "      <td>CANTERBURY</td>\n",
       "      <td>VIC</td>\n",
       "      <td>3126</td>\n",
       "      <td>4 Beds</td>\n",
       "      <td>2 Baths</td>\n",
       "      <td>2 Parking</td>\n",
       "      <td>654m²</td>\n",
       "      <td>Contact Agent</td>\n",
       "      <td>House</td>\n",
       "    </tr>\n",
       "  </tbody>\n",
       "</table>\n",
       "</div>"
      ],
      "text/plain": [
       "         Agent Name                                     Agency  \\\n",
       "425     Troy Duncan  First National Real Estate Lake Macquarie   \n",
       "426     Spring Chen                     Fletchers Balwyn North   \n",
       "427  Sacha Hennessy                                 Place West   \n",
       "428    Dean Stanley                     Ray White Williamstown   \n",
       "429   Peter  Vigano             Jellis Craig & Company Pty Ltd   \n",
       "\n",
       "                     Address           Area State   PIN Bedrooms Bathrooms  \\\n",
       "425      55 Croudace Street,      EDGEWORTH   NSW  2285   3 Beds    1 Bath   \n",
       "426      28A Campbell Grove,  HAWTHORN EAST   VIC  3123   4 Beds   3 Baths   \n",
       "427  61A Rockbourne Terrace,     PADDINGTON   QLD  4064   5 Beds   3 Baths   \n",
       "428        2 Osborne Street,   WILLIAMSTOWN   VIC  3016   4 Beds   2 Baths   \n",
       "429        58 Bryson Street,     CANTERBURY   VIC  3126   4 Beds   2 Baths   \n",
       "\n",
       "       Parking Square Meters                                    Price  \\\n",
       "425  1 Parking         669m²                      $600,000 - $660,000   \n",
       "426  2 Parking          None  Expressions of Interest | Contact Agent   \n",
       "427  2 Parking         405m²                             For Sale Now   \n",
       "428  2 Parking         240m²                  $1,800,000 - $1,900,000   \n",
       "429  2 Parking         654m²                            Contact Agent   \n",
       "\n",
       "    Property Type  \n",
       "425         House  \n",
       "426         House  \n",
       "427         House  \n",
       "428         House  \n",
       "429         House  "
      ]
     },
     "execution_count": 113,
     "metadata": {},
     "output_type": "execute_result"
    }
   ],
   "source": [
    "df.tail(5)"
   ]
  },
  {
   "cell_type": "code",
   "execution_count": null,
   "id": "51a68ead-4a08-4a13-beff-ec8cb3ec4aca",
   "metadata": {
    "tags": []
   },
   "outputs": [],
   "source": []
  },
  {
   "cell_type": "code",
   "execution_count": 104,
   "id": "b185b928-9314-42a2-b290-5215cd602782",
   "metadata": {
    "tags": []
   },
   "outputs": [
    {
     "data": {
      "text/plain": [
       "20"
      ]
     },
     "execution_count": 104,
     "metadata": {},
     "output_type": "execute_result"
    }
   ],
   "source": [
    "len(Agency)"
   ]
  },
  {
   "cell_type": "code",
   "execution_count": 84,
   "id": "d38fec41-c4fe-4c4f-9b34-af455c704a75",
   "metadata": {
    "tags": []
   },
   "outputs": [
    {
     "data": {
      "text/plain": [
       "160"
      ]
     },
     "execution_count": 84,
     "metadata": {},
     "output_type": "execute_result"
    }
   ],
   "source": [
    "len(Price)"
   ]
  },
  {
   "cell_type": "code",
   "execution_count": 86,
   "id": "229991b2-c458-4354-8295-905e47aed8e1",
   "metadata": {
    "tags": []
   },
   "outputs": [
    {
     "data": {
      "text/plain": [
       "160"
      ]
     },
     "execution_count": 86,
     "metadata": {},
     "output_type": "execute_result"
    }
   ],
   "source": [
    "len(Address)"
   ]
  },
  {
   "cell_type": "code",
   "execution_count": 87,
   "id": "a5a29222-cd82-4648-ae6b-6d33b95cdc7d",
   "metadata": {
    "tags": []
   },
   "outputs": [
    {
     "data": {
      "text/plain": [
       "160"
      ]
     },
     "execution_count": 87,
     "metadata": {},
     "output_type": "execute_result"
    }
   ],
   "source": [
    "len(PIN)"
   ]
  },
  {
   "cell_type": "code",
   "execution_count": 22,
   "id": "b59107d6-13d4-4b71-90c3-cd94ab4362f8",
   "metadata": {
    "tags": []
   },
   "outputs": [
    {
     "data": {
      "text/plain": [
       "160"
      ]
     },
     "execution_count": 22,
     "metadata": {},
     "output_type": "execute_result"
    }
   ],
   "source": [
    "len(Bed)"
   ]
  },
  {
   "cell_type": "code",
   "execution_count": 23,
   "id": "9d0f4d2f-7160-428c-b5c8-b6c21b81eb36",
   "metadata": {
    "tags": []
   },
   "outputs": [
    {
     "data": {
      "text/plain": [
       "160"
      ]
     },
     "execution_count": 23,
     "metadata": {},
     "output_type": "execute_result"
    }
   ],
   "source": [
    "len(Baths)"
   ]
  },
  {
   "cell_type": "code",
   "execution_count": 29,
   "id": "0ddc0b15-f9c7-4882-9f12-6debcda719c7",
   "metadata": {
    "tags": []
   },
   "outputs": [
    {
     "data": {
      "text/plain": [
       "160"
      ]
     },
     "execution_count": 29,
     "metadata": {},
     "output_type": "execute_result"
    }
   ],
   "source": [
    "len(mt_sq)"
   ]
  },
  {
   "cell_type": "code",
   "execution_count": 30,
   "id": "dc532df0-35c2-4291-90fe-95d63fd55fa3",
   "metadata": {
    "tags": []
   },
   "outputs": [
    {
     "data": {
      "text/plain": [
       "160"
      ]
     },
     "execution_count": 30,
     "metadata": {},
     "output_type": "execute_result"
    }
   ],
   "source": [
    "len(property_type)"
   ]
  },
  {
   "cell_type": "code",
   "execution_count": null,
   "id": "04afc14e-78a1-4ccf-96e2-e6ef168f786f",
   "metadata": {},
   "outputs": [],
   "source": []
  }
 ],
 "metadata": {
  "kernelspec": {
   "display_name": "Python 3 (ipykernel)",
   "language": "python",
   "name": "python3"
  },
  "language_info": {
   "codemirror_mode": {
    "name": "ipython",
    "version": 3
   },
   "file_extension": ".py",
   "mimetype": "text/x-python",
   "name": "python",
   "nbconvert_exporter": "python",
   "pygments_lexer": "ipython3",
   "version": "3.11.4"
  }
 },
 "nbformat": 4,
 "nbformat_minor": 5
}
